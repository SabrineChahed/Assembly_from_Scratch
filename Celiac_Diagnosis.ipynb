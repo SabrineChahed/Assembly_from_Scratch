{
  "nbformat": 4,
  "nbformat_minor": 0,
  "metadata": {
    "colab": {
      "provenance": [],
      "authorship_tag": "ABX9TyMrfvEEoh1q4R7yFKi4g3k1",
      "include_colab_link": true
    },
    "kernelspec": {
      "name": "python3",
      "display_name": "Python 3"
    },
    "language_info": {
      "name": "python"
    }
  },
  "cells": [
    {
      "cell_type": "markdown",
      "metadata": {
        "id": "view-in-github",
        "colab_type": "text"
      },
      "source": [
        "<a href=\"https://colab.research.google.com/github/SabrineChahed/Assembly_from_Scratch/blob/main/Celiac_Diagnosis.ipynb\" target=\"_parent\"><img src=\"https://colab.research.google.com/assets/colab-badge.svg\" alt=\"Open In Colab\"/></a>"
      ]
    },
    {
      "cell_type": "markdown",
      "source": [
        "\n",
        "\n",
        "#**Project Statement**\n",
        "\n",
        "\n",
        "\n",
        "\n",
        "\n",
        "##***Project Scope and Aim***\n",
        "\n",
        "\n",
        "\n",
        "The current project aims to investigating pertinent  features that affects Celiac Health Risk predicting whether or not a patient is more likely to have Celiac disease.\n",
        "\n",
        "\n",
        "\n",
        "\n",
        "\n",
        "The dataset used contains 14 features and 2206 records.\n",
        "\n",
        "##***The medical variables used:***\n",
        "\n",
        "- **Age**\n",
        "- **Gender**\n",
        "- **Diabetes:** yes, no\n",
        "- **Diabetes Type:** Type 1, Type 2, none\n",
        "- **Diarrhoea:** fatty, watery, inflammatory\n",
        "- **Abdominal:** yes, no\n",
        "- **Short Stature:**PSS, Variant, DSS\n",
        "- **Sticky Stool:** yes, no\n",
        "- **Weight Loss:** yes, no\n",
        "- **Marsh:**indicates level of number of lymphocytes among cells on the surface of the intestinal lining: IELs (IntraEpithelial Lymphocytes): marsh type 0, marsh type 3a, marsh type 1, marsh type 2, marsh type 3b, none, marsh type 3c\n",
        "- **cd_type:** potential, atypical, latent, silent, typical, none\n",
        "\n",
        "\n",
        "The antibodies:\n",
        "- **IgA**\n",
        "- **IgG**\n",
        "- **IgM**\n",
        "\n",
        "\n",
        "\n",
        "\n",
        "\n"
      ],
      "metadata": {
        "id": "iITBT8LO83SC"
      }
    },
    {
      "cell_type": "markdown",
      "source": [
        "#**Project Approach**\n",
        "\n",
        "\n",
        "We aim to predict how likely is a patient to have Celiac disease based on the previously seen features (Binary Classification).\n",
        "\n",
        "\n",
        "\n",
        "\n",
        "#***1- A first look at Celiac Health Risk Dataset***\n",
        "\n",
        "1.   ***Data Understanding***\n",
        "2.   ***Data Preprocessing***\n",
        "    * Handling Missing Values\n",
        "    * Hot Encoding\n",
        "    * Dataset Balancing\n",
        "\n",
        "\n",
        "#***2-  Model Implementation***\n",
        "\n",
        "1.    ***Random Forest***\n",
        "2.    ***GridSearchCV for parameter fine-tunning***\n",
        "3.    ***Feature Importance***\n",
        "\n",
        "\n",
        "\n",
        "\n",
        "\n",
        "#***3- Model Testing***\n",
        "\n",
        "\n",
        "#***4- Deployment***\n",
        "\n",
        "#***5- Conclusions***\n",
        "\n",
        "\n",
        "\n",
        "\n",
        "\n",
        "***Dataset reference:***\n",
        "https://www.kaggle.com/datasets/jackwin07/celiac-disease-coeliac-disease/data\n",
        "\n"
      ],
      "metadata": {
        "id": "6b9BL8LYI93V"
      }
    },
    {
      "cell_type": "markdown",
      "source": [
        "#**1- A first look at Celiac Health Risks Dataset**"
      ],
      "metadata": {
        "id": "vg5HAnmrBq2s"
      }
    },
    {
      "cell_type": "markdown",
      "source": [
        "## Library Imports\n",
        "This cell imports various libraries necessary for data handling, model building, and data visualization."
      ],
      "metadata": {
        "id": "pcUpFtvoEB2f"
      }
    },
    {
      "cell_type": "code",
      "source": [
        "import pandas as pd\n",
        "import numpy as np\n",
        "import seaborn as sns\n",
        "import plotly.express as px\n",
        "import matplotlib.pyplot as plt\n",
        "from sklearn.tree import DecisionTreeClassifier\n",
        "from sklearn.model_selection import train_test_split\n",
        "from sklearn import metrics\n",
        "from sklearn.preprocessing import LabelEncoder, OneHotEncoder\n",
        "from sklearn.utils import resample\n",
        "from sklearn.ensemble import RandomForestClassifier\n",
        "from sklearn.model_selection import GridSearchCV\n",
        "from sklearn.metrics import accuracy_score\n",
        "from sklearn.metrics import classification_report\n",
        "from sklearn.metrics import confusion_matrix"
      ],
      "metadata": {
        "id": "r2i-WUSnBsAX"
      },
      "execution_count": 124,
      "outputs": []
    },
    {
      "cell_type": "markdown",
      "source": [
        "#**1.1 Data Understanding**\n"
      ],
      "metadata": {
        "id": "pIYZSNBetzaz"
      }
    },
    {
      "cell_type": "code",
      "source": [
        "original_data = pd.read_csv('celiac_disease_lab_data.csv', sep=',', header=0)"
      ],
      "metadata": {
        "id": "H-oM8W0XCAP2"
      },
      "execution_count": 125,
      "outputs": []
    },
    {
      "cell_type": "code",
      "source": [
        "original_data.shape"
      ],
      "metadata": {
        "colab": {
          "base_uri": "https://localhost:8080/"
        },
        "id": "eQCi93v2CFY8",
        "outputId": "46f9d678-6788-4472-e164-d0a7a7421db9"
      },
      "execution_count": null,
      "outputs": [
        {
          "output_type": "execute_result",
          "data": {
            "text/plain": [
              "(2206, 15)"
            ]
          },
          "metadata": {},
          "execution_count": 3
        }
      ]
    },
    {
      "cell_type": "code",
      "source": [
        "original_data.head(5)"
      ],
      "metadata": {
        "colab": {
          "base_uri": "https://localhost:8080/",
          "height": 206
        },
        "id": "FAxFQwSQCImk",
        "outputId": "700d7712-0fb4-490b-fed3-8b5be02923b8"
      },
      "execution_count": null,
      "outputs": [
        {
          "output_type": "execute_result",
          "data": {
            "text/plain": [
              "   Age  Gender Diabetes Diabetes Type     Diarrhoea Abdominal Short_Stature  \\\n",
              "0   10    Male      Yes        Type 1  inflammatory       yes           PSS   \n",
              "1    9    Male      Yes        Type 1        fatty        yes           PSS   \n",
              "2    8  Female      Yes        Type 1        watery       yes      Variant    \n",
              "3   10    Male      Yes        Type 1        watery       yes           PSS   \n",
              "4    9    Male      Yes        Type 1        fatty        yes           PSS   \n",
              "\n",
              "  Sticky_Stool Weight_loss   IgA   IgG   IgM          Marsh    cd_type  \\\n",
              "0           no          no  1.30  10.0  1.00   marsh type 0  potential   \n",
              "1           no          no  1.50  12.5  1.30  marsh type 3a   atypical   \n",
              "2          yes         yes  0.40   8.0  0.50   marsh type 1     latent   \n",
              "3           no          no  0.98   9.0  0.66  marsh type 3a     silent   \n",
              "4           no          no  1.00  10.5  1.10   marsh type 1     latent   \n",
              "\n",
              "  Disease_Diagnose  \n",
              "0              yes  \n",
              "1              yes  \n",
              "2              yes  \n",
              "3              yes  \n",
              "4              yes  "
            ],
            "text/html": [
              "\n",
              "  <div id=\"df-63122eb7-712f-4582-8918-c2a10c8ae65f\" class=\"colab-df-container\">\n",
              "    <div>\n",
              "<style scoped>\n",
              "    .dataframe tbody tr th:only-of-type {\n",
              "        vertical-align: middle;\n",
              "    }\n",
              "\n",
              "    .dataframe tbody tr th {\n",
              "        vertical-align: top;\n",
              "    }\n",
              "\n",
              "    .dataframe thead th {\n",
              "        text-align: right;\n",
              "    }\n",
              "</style>\n",
              "<table border=\"1\" class=\"dataframe\">\n",
              "  <thead>\n",
              "    <tr style=\"text-align: right;\">\n",
              "      <th></th>\n",
              "      <th>Age</th>\n",
              "      <th>Gender</th>\n",
              "      <th>Diabetes</th>\n",
              "      <th>Diabetes Type</th>\n",
              "      <th>Diarrhoea</th>\n",
              "      <th>Abdominal</th>\n",
              "      <th>Short_Stature</th>\n",
              "      <th>Sticky_Stool</th>\n",
              "      <th>Weight_loss</th>\n",
              "      <th>IgA</th>\n",
              "      <th>IgG</th>\n",
              "      <th>IgM</th>\n",
              "      <th>Marsh</th>\n",
              "      <th>cd_type</th>\n",
              "      <th>Disease_Diagnose</th>\n",
              "    </tr>\n",
              "  </thead>\n",
              "  <tbody>\n",
              "    <tr>\n",
              "      <th>0</th>\n",
              "      <td>10</td>\n",
              "      <td>Male</td>\n",
              "      <td>Yes</td>\n",
              "      <td>Type 1</td>\n",
              "      <td>inflammatory</td>\n",
              "      <td>yes</td>\n",
              "      <td>PSS</td>\n",
              "      <td>no</td>\n",
              "      <td>no</td>\n",
              "      <td>1.30</td>\n",
              "      <td>10.0</td>\n",
              "      <td>1.00</td>\n",
              "      <td>marsh type 0</td>\n",
              "      <td>potential</td>\n",
              "      <td>yes</td>\n",
              "    </tr>\n",
              "    <tr>\n",
              "      <th>1</th>\n",
              "      <td>9</td>\n",
              "      <td>Male</td>\n",
              "      <td>Yes</td>\n",
              "      <td>Type 1</td>\n",
              "      <td>fatty</td>\n",
              "      <td>yes</td>\n",
              "      <td>PSS</td>\n",
              "      <td>no</td>\n",
              "      <td>no</td>\n",
              "      <td>1.50</td>\n",
              "      <td>12.5</td>\n",
              "      <td>1.30</td>\n",
              "      <td>marsh type 3a</td>\n",
              "      <td>atypical</td>\n",
              "      <td>yes</td>\n",
              "    </tr>\n",
              "    <tr>\n",
              "      <th>2</th>\n",
              "      <td>8</td>\n",
              "      <td>Female</td>\n",
              "      <td>Yes</td>\n",
              "      <td>Type 1</td>\n",
              "      <td>watery</td>\n",
              "      <td>yes</td>\n",
              "      <td>Variant</td>\n",
              "      <td>yes</td>\n",
              "      <td>yes</td>\n",
              "      <td>0.40</td>\n",
              "      <td>8.0</td>\n",
              "      <td>0.50</td>\n",
              "      <td>marsh type 1</td>\n",
              "      <td>latent</td>\n",
              "      <td>yes</td>\n",
              "    </tr>\n",
              "    <tr>\n",
              "      <th>3</th>\n",
              "      <td>10</td>\n",
              "      <td>Male</td>\n",
              "      <td>Yes</td>\n",
              "      <td>Type 1</td>\n",
              "      <td>watery</td>\n",
              "      <td>yes</td>\n",
              "      <td>PSS</td>\n",
              "      <td>no</td>\n",
              "      <td>no</td>\n",
              "      <td>0.98</td>\n",
              "      <td>9.0</td>\n",
              "      <td>0.66</td>\n",
              "      <td>marsh type 3a</td>\n",
              "      <td>silent</td>\n",
              "      <td>yes</td>\n",
              "    </tr>\n",
              "    <tr>\n",
              "      <th>4</th>\n",
              "      <td>9</td>\n",
              "      <td>Male</td>\n",
              "      <td>Yes</td>\n",
              "      <td>Type 1</td>\n",
              "      <td>fatty</td>\n",
              "      <td>yes</td>\n",
              "      <td>PSS</td>\n",
              "      <td>no</td>\n",
              "      <td>no</td>\n",
              "      <td>1.00</td>\n",
              "      <td>10.5</td>\n",
              "      <td>1.10</td>\n",
              "      <td>marsh type 1</td>\n",
              "      <td>latent</td>\n",
              "      <td>yes</td>\n",
              "    </tr>\n",
              "  </tbody>\n",
              "</table>\n",
              "</div>\n",
              "    <div class=\"colab-df-buttons\">\n",
              "\n",
              "  <div class=\"colab-df-container\">\n",
              "    <button class=\"colab-df-convert\" onclick=\"convertToInteractive('df-63122eb7-712f-4582-8918-c2a10c8ae65f')\"\n",
              "            title=\"Convert this dataframe to an interactive table.\"\n",
              "            style=\"display:none;\">\n",
              "\n",
              "  <svg xmlns=\"http://www.w3.org/2000/svg\" height=\"24px\" viewBox=\"0 -960 960 960\">\n",
              "    <path d=\"M120-120v-720h720v720H120Zm60-500h600v-160H180v160Zm220 220h160v-160H400v160Zm0 220h160v-160H400v160ZM180-400h160v-160H180v160Zm440 0h160v-160H620v160ZM180-180h160v-160H180v160Zm440 0h160v-160H620v160Z\"/>\n",
              "  </svg>\n",
              "    </button>\n",
              "\n",
              "  <style>\n",
              "    .colab-df-container {\n",
              "      display:flex;\n",
              "      gap: 12px;\n",
              "    }\n",
              "\n",
              "    .colab-df-convert {\n",
              "      background-color: #E8F0FE;\n",
              "      border: none;\n",
              "      border-radius: 50%;\n",
              "      cursor: pointer;\n",
              "      display: none;\n",
              "      fill: #1967D2;\n",
              "      height: 32px;\n",
              "      padding: 0 0 0 0;\n",
              "      width: 32px;\n",
              "    }\n",
              "\n",
              "    .colab-df-convert:hover {\n",
              "      background-color: #E2EBFA;\n",
              "      box-shadow: 0px 1px 2px rgba(60, 64, 67, 0.3), 0px 1px 3px 1px rgba(60, 64, 67, 0.15);\n",
              "      fill: #174EA6;\n",
              "    }\n",
              "\n",
              "    .colab-df-buttons div {\n",
              "      margin-bottom: 4px;\n",
              "    }\n",
              "\n",
              "    [theme=dark] .colab-df-convert {\n",
              "      background-color: #3B4455;\n",
              "      fill: #D2E3FC;\n",
              "    }\n",
              "\n",
              "    [theme=dark] .colab-df-convert:hover {\n",
              "      background-color: #434B5C;\n",
              "      box-shadow: 0px 1px 3px 1px rgba(0, 0, 0, 0.15);\n",
              "      filter: drop-shadow(0px 1px 2px rgba(0, 0, 0, 0.3));\n",
              "      fill: #FFFFFF;\n",
              "    }\n",
              "  </style>\n",
              "\n",
              "    <script>\n",
              "      const buttonEl =\n",
              "        document.querySelector('#df-63122eb7-712f-4582-8918-c2a10c8ae65f button.colab-df-convert');\n",
              "      buttonEl.style.display =\n",
              "        google.colab.kernel.accessAllowed ? 'block' : 'none';\n",
              "\n",
              "      async function convertToInteractive(key) {\n",
              "        const element = document.querySelector('#df-63122eb7-712f-4582-8918-c2a10c8ae65f');\n",
              "        const dataTable =\n",
              "          await google.colab.kernel.invokeFunction('convertToInteractive',\n",
              "                                                    [key], {});\n",
              "        if (!dataTable) return;\n",
              "\n",
              "        const docLinkHtml = 'Like what you see? Visit the ' +\n",
              "          '<a target=\"_blank\" href=https://colab.research.google.com/notebooks/data_table.ipynb>data table notebook</a>'\n",
              "          + ' to learn more about interactive tables.';\n",
              "        element.innerHTML = '';\n",
              "        dataTable['output_type'] = 'display_data';\n",
              "        await google.colab.output.renderOutput(dataTable, element);\n",
              "        const docLink = document.createElement('div');\n",
              "        docLink.innerHTML = docLinkHtml;\n",
              "        element.appendChild(docLink);\n",
              "      }\n",
              "    </script>\n",
              "  </div>\n",
              "\n",
              "\n",
              "<div id=\"df-187babb3-dae1-491b-bbeb-0eb8311b7c22\">\n",
              "  <button class=\"colab-df-quickchart\" onclick=\"quickchart('df-187babb3-dae1-491b-bbeb-0eb8311b7c22')\"\n",
              "            title=\"Suggest charts\"\n",
              "            style=\"display:none;\">\n",
              "\n",
              "<svg xmlns=\"http://www.w3.org/2000/svg\" height=\"24px\"viewBox=\"0 0 24 24\"\n",
              "     width=\"24px\">\n",
              "    <g>\n",
              "        <path d=\"M19 3H5c-1.1 0-2 .9-2 2v14c0 1.1.9 2 2 2h14c1.1 0 2-.9 2-2V5c0-1.1-.9-2-2-2zM9 17H7v-7h2v7zm4 0h-2V7h2v10zm4 0h-2v-4h2v4z\"/>\n",
              "    </g>\n",
              "</svg>\n",
              "  </button>\n",
              "\n",
              "<style>\n",
              "  .colab-df-quickchart {\n",
              "      --bg-color: #E8F0FE;\n",
              "      --fill-color: #1967D2;\n",
              "      --hover-bg-color: #E2EBFA;\n",
              "      --hover-fill-color: #174EA6;\n",
              "      --disabled-fill-color: #AAA;\n",
              "      --disabled-bg-color: #DDD;\n",
              "  }\n",
              "\n",
              "  [theme=dark] .colab-df-quickchart {\n",
              "      --bg-color: #3B4455;\n",
              "      --fill-color: #D2E3FC;\n",
              "      --hover-bg-color: #434B5C;\n",
              "      --hover-fill-color: #FFFFFF;\n",
              "      --disabled-bg-color: #3B4455;\n",
              "      --disabled-fill-color: #666;\n",
              "  }\n",
              "\n",
              "  .colab-df-quickchart {\n",
              "    background-color: var(--bg-color);\n",
              "    border: none;\n",
              "    border-radius: 50%;\n",
              "    cursor: pointer;\n",
              "    display: none;\n",
              "    fill: var(--fill-color);\n",
              "    height: 32px;\n",
              "    padding: 0;\n",
              "    width: 32px;\n",
              "  }\n",
              "\n",
              "  .colab-df-quickchart:hover {\n",
              "    background-color: var(--hover-bg-color);\n",
              "    box-shadow: 0 1px 2px rgba(60, 64, 67, 0.3), 0 1px 3px 1px rgba(60, 64, 67, 0.15);\n",
              "    fill: var(--button-hover-fill-color);\n",
              "  }\n",
              "\n",
              "  .colab-df-quickchart-complete:disabled,\n",
              "  .colab-df-quickchart-complete:disabled:hover {\n",
              "    background-color: var(--disabled-bg-color);\n",
              "    fill: var(--disabled-fill-color);\n",
              "    box-shadow: none;\n",
              "  }\n",
              "\n",
              "  .colab-df-spinner {\n",
              "    border: 2px solid var(--fill-color);\n",
              "    border-color: transparent;\n",
              "    border-bottom-color: var(--fill-color);\n",
              "    animation:\n",
              "      spin 1s steps(1) infinite;\n",
              "  }\n",
              "\n",
              "  @keyframes spin {\n",
              "    0% {\n",
              "      border-color: transparent;\n",
              "      border-bottom-color: var(--fill-color);\n",
              "      border-left-color: var(--fill-color);\n",
              "    }\n",
              "    20% {\n",
              "      border-color: transparent;\n",
              "      border-left-color: var(--fill-color);\n",
              "      border-top-color: var(--fill-color);\n",
              "    }\n",
              "    30% {\n",
              "      border-color: transparent;\n",
              "      border-left-color: var(--fill-color);\n",
              "      border-top-color: var(--fill-color);\n",
              "      border-right-color: var(--fill-color);\n",
              "    }\n",
              "    40% {\n",
              "      border-color: transparent;\n",
              "      border-right-color: var(--fill-color);\n",
              "      border-top-color: var(--fill-color);\n",
              "    }\n",
              "    60% {\n",
              "      border-color: transparent;\n",
              "      border-right-color: var(--fill-color);\n",
              "    }\n",
              "    80% {\n",
              "      border-color: transparent;\n",
              "      border-right-color: var(--fill-color);\n",
              "      border-bottom-color: var(--fill-color);\n",
              "    }\n",
              "    90% {\n",
              "      border-color: transparent;\n",
              "      border-bottom-color: var(--fill-color);\n",
              "    }\n",
              "  }\n",
              "</style>\n",
              "\n",
              "  <script>\n",
              "    async function quickchart(key) {\n",
              "      const quickchartButtonEl =\n",
              "        document.querySelector('#' + key + ' button');\n",
              "      quickchartButtonEl.disabled = true;  // To prevent multiple clicks.\n",
              "      quickchartButtonEl.classList.add('colab-df-spinner');\n",
              "      try {\n",
              "        const charts = await google.colab.kernel.invokeFunction(\n",
              "            'suggestCharts', [key], {});\n",
              "      } catch (error) {\n",
              "        console.error('Error during call to suggestCharts:', error);\n",
              "      }\n",
              "      quickchartButtonEl.classList.remove('colab-df-spinner');\n",
              "      quickchartButtonEl.classList.add('colab-df-quickchart-complete');\n",
              "    }\n",
              "    (() => {\n",
              "      let quickchartButtonEl =\n",
              "        document.querySelector('#df-187babb3-dae1-491b-bbeb-0eb8311b7c22 button');\n",
              "      quickchartButtonEl.style.display =\n",
              "        google.colab.kernel.accessAllowed ? 'block' : 'none';\n",
              "    })();\n",
              "  </script>\n",
              "</div>\n",
              "    </div>\n",
              "  </div>\n"
            ],
            "application/vnd.google.colaboratory.intrinsic+json": {
              "type": "dataframe",
              "variable_name": "original_data",
              "summary": "{\n  \"name\": \"original_data\",\n  \"rows\": 2206,\n  \"fields\": [\n    {\n      \"column\": \"Age\",\n      \"properties\": {\n        \"dtype\": \"number\",\n        \"std\": 7,\n        \"min\": 1,\n        \"max\": 35,\n        \"num_unique_values\": 32,\n        \"samples\": [\n          24,\n          31,\n          25\n        ],\n        \"semantic_type\": \"\",\n        \"description\": \"\"\n      }\n    },\n    {\n      \"column\": \"Gender\",\n      \"properties\": {\n        \"dtype\": \"category\",\n        \"num_unique_values\": 2,\n        \"samples\": [\n          \"Female\",\n          \"Male\"\n        ],\n        \"semantic_type\": \"\",\n        \"description\": \"\"\n      }\n    },\n    {\n      \"column\": \"Diabetes\",\n      \"properties\": {\n        \"dtype\": \"category\",\n        \"num_unique_values\": 2,\n        \"samples\": [\n          \"no\",\n          \"Yes\"\n        ],\n        \"semantic_type\": \"\",\n        \"description\": \"\"\n      }\n    },\n    {\n      \"column\": \"Diabetes Type\",\n      \"properties\": {\n        \"dtype\": \"category\",\n        \"num_unique_values\": 2,\n        \"samples\": [\n          \"Type 2\",\n          \"Type 1\"\n        ],\n        \"semantic_type\": \"\",\n        \"description\": \"\"\n      }\n    },\n    {\n      \"column\": \"Diarrhoea\",\n      \"properties\": {\n        \"dtype\": \"category\",\n        \"num_unique_values\": 3,\n        \"samples\": [\n          \"inflammatory\",\n          \"fatty \"\n        ],\n        \"semantic_type\": \"\",\n        \"description\": \"\"\n      }\n    },\n    {\n      \"column\": \"Abdominal\",\n      \"properties\": {\n        \"dtype\": \"category\",\n        \"num_unique_values\": 2,\n        \"samples\": [\n          \"no\",\n          \"yes\"\n        ],\n        \"semantic_type\": \"\",\n        \"description\": \"\"\n      }\n    },\n    {\n      \"column\": \"Short_Stature\",\n      \"properties\": {\n        \"dtype\": \"category\",\n        \"num_unique_values\": 3,\n        \"samples\": [\n          \"PSS\",\n          \"Variant \"\n        ],\n        \"semantic_type\": \"\",\n        \"description\": \"\"\n      }\n    },\n    {\n      \"column\": \"Sticky_Stool\",\n      \"properties\": {\n        \"dtype\": \"category\",\n        \"num_unique_values\": 2,\n        \"samples\": [\n          \"yes\",\n          \"no\"\n        ],\n        \"semantic_type\": \"\",\n        \"description\": \"\"\n      }\n    },\n    {\n      \"column\": \"Weight_loss\",\n      \"properties\": {\n        \"dtype\": \"category\",\n        \"num_unique_values\": 2,\n        \"samples\": [\n          \"yes\",\n          \"no\"\n        ],\n        \"semantic_type\": \"\",\n        \"description\": \"\"\n      }\n    },\n    {\n      \"column\": \"IgA\",\n      \"properties\": {\n        \"dtype\": \"number\",\n        \"std\": 1.1100415730450104,\n        \"min\": 0.34,\n        \"max\": 9.0,\n        \"num_unique_values\": 35,\n        \"samples\": [\n          1.2,\n          0.97\n        ],\n        \"semantic_type\": \"\",\n        \"description\": \"\"\n      }\n    },\n    {\n      \"column\": \"IgG\",\n      \"properties\": {\n        \"dtype\": \"number\",\n        \"std\": 2.0476828818905837,\n        \"min\": 5.0,\n        \"max\": 15.3,\n        \"num_unique_values\": 36,\n        \"samples\": [\n          11.1,\n          12.3\n        ],\n        \"semantic_type\": \"\",\n        \"description\": \"\"\n      }\n    },\n    {\n      \"column\": \"IgM\",\n      \"properties\": {\n        \"dtype\": \"number\",\n        \"std\": 0.4472161565520147,\n        \"min\": 0.5,\n        \"max\": 2.7,\n        \"num_unique_values\": 27,\n        \"samples\": [\n          1.5,\n          2.7\n        ],\n        \"semantic_type\": \"\",\n        \"description\": \"\"\n      }\n    },\n    {\n      \"column\": \"Marsh\",\n      \"properties\": {\n        \"dtype\": \"category\",\n        \"num_unique_values\": 7,\n        \"samples\": [\n          \"marsh type 0\",\n          \"marsh type 3a\"\n        ],\n        \"semantic_type\": \"\",\n        \"description\": \"\"\n      }\n    },\n    {\n      \"column\": \"cd_type\",\n      \"properties\": {\n        \"dtype\": \"category\",\n        \"num_unique_values\": 6,\n        \"samples\": [\n          \"potential\",\n          \"atypical\"\n        ],\n        \"semantic_type\": \"\",\n        \"description\": \"\"\n      }\n    },\n    {\n      \"column\": \"Disease_Diagnose\",\n      \"properties\": {\n        \"dtype\": \"category\",\n        \"num_unique_values\": 2,\n        \"samples\": [\n          \"no\",\n          \"yes\"\n        ],\n        \"semantic_type\": \"\",\n        \"description\": \"\"\n      }\n    }\n  ]\n}"
            }
          },
          "metadata": {},
          "execution_count": 15
        }
      ]
    },
    {
      "cell_type": "code",
      "source": [
        "original_data.dtypes"
      ],
      "metadata": {
        "colab": {
          "base_uri": "https://localhost:8080/"
        },
        "id": "xOgjSCyTAqfP",
        "outputId": "305871d1-4b1d-4f38-ed33-2daf51dc484b"
      },
      "execution_count": null,
      "outputs": [
        {
          "output_type": "execute_result",
          "data": {
            "text/plain": [
              "Age                   int64\n",
              "Gender               object\n",
              "Diabetes             object\n",
              "Diabetes Type        object\n",
              "Diarrhoea            object\n",
              "Abdominal            object\n",
              "Short_Stature        object\n",
              "Sticky_Stool         object\n",
              "Weight_loss          object\n",
              "IgA                 float64\n",
              "IgG                 float64\n",
              "IgM                 float64\n",
              "Marsh                object\n",
              "cd_type              object\n",
              "Disease_Diagnose     object\n",
              "dtype: object"
            ]
          },
          "metadata": {},
          "execution_count": 60
        }
      ]
    },
    {
      "cell_type": "code",
      "source": [
        "#what are the types of values in the field\n",
        "\n",
        "print('Gender values are: ', original_data['Gender'].unique())\n",
        "print('Diabetes values are', original_data['Diabetes'].unique())\n",
        "print('Diabetes Type values are', original_data['Diabetes Type'].unique())\n",
        "print('Diarrhoea values are: ', original_data['Diarrhoea'].unique())\n",
        "print('Abdominal values are', original_data['Abdominal'].unique())\n",
        "print('Short_Stature values are: ', original_data['Short_Stature'].unique())\n",
        "print('Sticky_Stool values are: ', original_data['Sticky_Stool'].unique())\n",
        "print('Weight_loss values are: ', original_data['Weight_loss'].unique())\n",
        "print('Marsh values are: ', original_data['Marsh'].unique())\n",
        "print('cd_type values are: ', original_data['cd_type'].unique())\n",
        "print('Disease_Diagnose values are: ', original_data['Disease_Diagnose'].unique())"
      ],
      "metadata": {
        "id": "RrDc-IyoJXwf",
        "colab": {
          "base_uri": "https://localhost:8080/"
        },
        "outputId": "4db53a54-601a-441a-f333-7a050811d77b"
      },
      "execution_count": null,
      "outputs": [
        {
          "output_type": "stream",
          "name": "stdout",
          "text": [
            "Gender values are:  ['Male' 'Female']\n",
            "Diabetes values are ['Yes' 'no']\n",
            "Diabetes Type values are ['Type 1' nan 'Type 2']\n",
            "Diarrhoea values are:  ['inflammatory' 'fatty ' 'watery']\n",
            "Abdominal values are ['yes' 'no']\n",
            "Short_Stature values are:  ['PSS' 'Variant ' 'DSS']\n",
            "Sticky_Stool values are:  ['no' 'yes']\n",
            "Weight_loss values are:  ['no' 'yes']\n",
            "Marsh values are:  ['marsh type 0' 'marsh type 3a' 'marsh type 1' 'marsh type 2'\n",
            " 'marsh type 3b' 'none' 'marsh type 3c']\n",
            "cd_type values are:  ['potential' 'atypical' 'latent' 'silent' 'typical' 'none']\n",
            "Disease_Diagnose values are:  ['yes' 'no']\n"
          ]
        }
      ]
    },
    {
      "cell_type": "code",
      "source": [
        "#how many null values are there\n",
        "original_data.isnull().sum()"
      ],
      "metadata": {
        "colab": {
          "base_uri": "https://localhost:8080/"
        },
        "id": "HskQW17UkyKU",
        "outputId": "4af0fd39-f1ac-40b9-a069-3857ba2c70c6"
      },
      "execution_count": 126,
      "outputs": [
        {
          "output_type": "execute_result",
          "data": {
            "text/plain": [
              "Age                   0\n",
              "Gender                0\n",
              "Diabetes              0\n",
              "Diabetes Type       418\n",
              "Diarrhoea             0\n",
              "Abdominal             0\n",
              "Short_Stature         0\n",
              "Sticky_Stool          0\n",
              "Weight_loss           0\n",
              "IgA                   0\n",
              "IgG                   0\n",
              "IgM                   0\n",
              "Marsh                 0\n",
              "cd_type               0\n",
              "Disease_Diagnose      0\n",
              "dtype: int64"
            ]
          },
          "metadata": {},
          "execution_count": 126
        }
      ]
    },
    {
      "cell_type": "code",
      "source": [
        "# check for data balancy\n",
        "original_data['Disease_Diagnose'].value_counts()"
      ],
      "metadata": {
        "colab": {
          "base_uri": "https://localhost:8080/"
        },
        "id": "DqEZlTBZMU1r",
        "outputId": "7cd1479c-1c64-4811-eec7-bf6f00dcdf00"
      },
      "execution_count": 127,
      "outputs": [
        {
          "output_type": "execute_result",
          "data": {
            "text/plain": [
              "Disease_Diagnose\n",
              "yes    1843\n",
              "no      363\n",
              "Name: count, dtype: int64"
            ]
          },
          "metadata": {},
          "execution_count": 127
        }
      ]
    },
    {
      "cell_type": "code",
      "source": [
        "sns.countplot(original_data['Disease_Diagnose'])"
      ],
      "metadata": {
        "colab": {
          "base_uri": "https://localhost:8080/",
          "height": 467
        },
        "id": "n6YWD-oNMf-_",
        "outputId": "e75db508-ad3d-4f65-a551-70674c4e55f9"
      },
      "execution_count": 128,
      "outputs": [
        {
          "output_type": "execute_result",
          "data": {
            "text/plain": [
              "<Axes: xlabel='count', ylabel='Disease_Diagnose'>"
            ]
          },
          "metadata": {},
          "execution_count": 128
        },
        {
          "output_type": "display_data",
          "data": {
            "text/plain": [
              "<Figure size 640x480 with 1 Axes>"
            ],
            "image/png": "[encoded data removed]"
          },
          "metadata": {}
        }
      ]
    },
    {
      "cell_type": "markdown",
      "source": [
        "We notice that the dataset is imbalanced, it has to be balaneced!"
      ],
      "metadata": {
        "id": "8q_f_Nj0Kd6y"
      }
    },
    {
      "cell_type": "markdown",
      "source": [
        "#**1.2 Data Preprocessing**"
      ],
      "metadata": {
        "id": "19ZV_IngAWuC"
      }
    },
    {
      "cell_type": "markdown",
      "source": [
        "#**1.2.1 Handling Missing Value**\n"
      ],
      "metadata": {
        "id": "J1PCeZ6MA0EE"
      }
    },
    {
      "cell_type": "code",
      "source": [
        "original_data = original_data.fillna('none')"
      ],
      "metadata": {
        "id": "LdQCKQzoZ_hk"
      },
      "execution_count": 129,
      "outputs": []
    },
    {
      "cell_type": "code",
      "source": [
        "original_data.isnull().sum()"
      ],
      "metadata": {
        "colab": {
          "base_uri": "https://localhost:8080/"
        },
        "id": "8fKo3yccaKbj",
        "outputId": "42e216bd-3582-4c3d-d72f-5fa6bcc6064b"
      },
      "execution_count": 130,
      "outputs": [
        {
          "output_type": "execute_result",
          "data": {
            "text/plain": [
              "Age                 0\n",
              "Gender              0\n",
              "Diabetes            0\n",
              "Diabetes Type       0\n",
              "Diarrhoea           0\n",
              "Abdominal           0\n",
              "Short_Stature       0\n",
              "Sticky_Stool        0\n",
              "Weight_loss         0\n",
              "IgA                 0\n",
              "IgG                 0\n",
              "IgM                 0\n",
              "Marsh               0\n",
              "cd_type             0\n",
              "Disease_Diagnose    0\n",
              "dtype: int64"
            ]
          },
          "metadata": {},
          "execution_count": 130
        }
      ]
    },
    {
      "cell_type": "markdown",
      "source": [
        "\n",
        "#**1.2.2 Hot Encoding**\n"
      ],
      "metadata": {
        "id": "h3jPNzhH2mHz"
      }
    },
    {
      "cell_type": "code",
      "source": [
        "# Label Encoding for non-binary categorical variables\n",
        "label_encoders = {}\n",
        "for column in original_data.columns:\n",
        "    if original_data[column].dtype == 'object':\n",
        "        label_encoders[column] = LabelEncoder()\n",
        "        original_data[column] = label_encoders[column].fit_transform(original_data[column])\n"
      ],
      "metadata": {
        "id": "aWeLEiVyaSen"
      },
      "execution_count": 131,
      "outputs": []
    },
    {
      "cell_type": "code",
      "source": [
        "original_data.dtypes"
      ],
      "metadata": {
        "colab": {
          "base_uri": "https://localhost:8080/"
        },
        "id": "8XdC2NJDaqmn",
        "outputId": "c08b0a25-3fa2-4325-da7f-2ab93e6501f0"
      },
      "execution_count": 132,
      "outputs": [
        {
          "output_type": "execute_result",
          "data": {
            "text/plain": [
              "Age                   int64\n",
              "Gender                int64\n",
              "Diabetes              int64\n",
              "Diabetes Type         int64\n",
              "Diarrhoea             int64\n",
              "Abdominal             int64\n",
              "Short_Stature         int64\n",
              "Sticky_Stool          int64\n",
              "Weight_loss           int64\n",
              "IgA                 float64\n",
              "IgG                 float64\n",
              "IgM                 float64\n",
              "Marsh                 int64\n",
              "cd_type               int64\n",
              "Disease_Diagnose      int64\n",
              "dtype: object"
            ]
          },
          "metadata": {},
          "execution_count": 132
        }
      ]
    },
    {
      "cell_type": "code",
      "source": [
        "print('Gender values are: ', original_data['Gender'].unique())\n",
        "print('Diabetes values are', original_data['Diabetes'].unique())\n",
        "print('Diabetes Type values are', original_data['Diabetes Type'].unique())\n",
        "print('Diarrhoea values are: ', original_data['Diarrhoea'].unique())\n",
        "print('Abdominal values are', original_data['Abdominal'].unique())\n",
        "print('Short_Stature values are: ', original_data['Short_Stature'].unique())\n",
        "print('Sticky_Stool values are: ', original_data['Sticky_Stool'].unique())\n",
        "print('Weight_loss values are: ', original_data['Weight_loss'].unique())\n",
        "print('Marsh values are: ', original_data['Marsh'].unique())\n",
        "print('cd_type values are: ', original_data['cd_type'].unique())\n",
        "print('Disease_Diagnose values are: ', original_data['Disease_Diagnose'].unique())"
      ],
      "metadata": {
        "colab": {
          "base_uri": "https://localhost:8080/"
        },
        "id": "laSRO4uhD7dl",
        "outputId": "ccdb28c2-7779-4866-9546-63c672ac458b"
      },
      "execution_count": 133,
      "outputs": [
        {
          "output_type": "stream",
          "name": "stdout",
          "text": [
            "Gender values are:  [1 0]\n",
            "Diabetes values are [0 1]\n",
            "Diabetes Type values are [0 2 1]\n",
            "Diarrhoea values are:  [1 0 2]\n",
            "Abdominal values are [1 0]\n",
            "Short_Stature values are:  [1 2 0]\n",
            "Sticky_Stool values are:  [0 1]\n",
            "Weight_loss values are:  [0 1]\n",
            "Marsh values are:  [0 3 1 2 4 6 5]\n",
            "cd_type values are:  [3 0 1 4 5 2]\n",
            "Disease_Diagnose values are:  [1 0]\n"
          ]
        }
      ]
    },
    {
      "cell_type": "code",
      "source": [
        "\n",
        "for column_name, label_encoder in label_encoders.items():\n",
        "    print(f\"Column: {column_name}\")\n",
        "    numerical_labels = label_encoder.transform(label_encoder.classes_)\n",
        "    original_values = label_encoder.inverse_transform(numerical_labels)\n",
        "    for label, value in zip(numerical_labels, original_values):\n",
        "        print(f\"Numerical Label: {label}, Original Value: {value}\")\n",
        "    print()\n"
      ],
      "metadata": {
        "colab": {
          "base_uri": "https://localhost:8080/"
        },
        "id": "9lpHm_0MEdXk",
        "outputId": "e3a3e0c2-2a2b-4a66-fdcf-10fa9c2e7692"
      },
      "execution_count": 134,
      "outputs": [
        {
          "output_type": "stream",
          "name": "stdout",
          "text": [
            "Column: Gender\n",
            "Numerical Label: 0, Original Value: Female\n",
            "Numerical Label: 1, Original Value: Male\n",
            "\n",
            "Column: Diabetes\n",
            "Numerical Label: 0, Original Value: Yes\n",
            "Numerical Label: 1, Original Value: no\n",
            "\n",
            "Column: Diabetes Type\n",
            "Numerical Label: 0, Original Value: Type 1\n",
            "Numerical Label: 1, Original Value: Type 2\n",
            "Numerical Label: 2, Original Value: none\n",
            "\n",
            "Column: Diarrhoea\n",
            "Numerical Label: 0, Original Value: fatty \n",
            "Numerical Label: 1, Original Value: inflammatory\n",
            "Numerical Label: 2, Original Value: watery\n",
            "\n",
            "Column: Abdominal\n",
            "Numerical Label: 0, Original Value: no\n",
            "Numerical Label: 1, Original Value: yes\n",
            "\n",
            "Column: Short_Stature\n",
            "Numerical Label: 0, Original Value: DSS\n",
            "Numerical Label: 1, Original Value: PSS\n",
            "Numerical Label: 2, Original Value: Variant \n",
            "\n",
            "Column: Sticky_Stool\n",
            "Numerical Label: 0, Original Value: no\n",
            "Numerical Label: 1, Original Value: yes\n",
            "\n",
            "Column: Weight_loss\n",
            "Numerical Label: 0, Original Value: no\n",
            "Numerical Label: 1, Original Value: yes\n",
            "\n",
            "Column: Marsh\n",
            "Numerical Label: 0, Original Value: marsh type 0\n",
            "Numerical Label: 1, Original Value: marsh type 1\n",
            "Numerical Label: 2, Original Value: marsh type 2\n",
            "Numerical Label: 3, Original Value: marsh type 3a\n",
            "Numerical Label: 4, Original Value: marsh type 3b\n",
            "Numerical Label: 5, Original Value: marsh type 3c\n",
            "Numerical Label: 6, Original Value: none\n",
            "\n",
            "Column: cd_type\n",
            "Numerical Label: 0, Original Value: atypical\n",
            "Numerical Label: 1, Original Value: latent\n",
            "Numerical Label: 2, Original Value: none\n",
            "Numerical Label: 3, Original Value: potential\n",
            "Numerical Label: 4, Original Value: silent\n",
            "Numerical Label: 5, Original Value: typical\n",
            "\n",
            "Column: Disease_Diagnose\n",
            "Numerical Label: 0, Original Value: no\n",
            "Numerical Label: 1, Original Value: yes\n",
            "\n"
          ]
        }
      ]
    },
    {
      "cell_type": "code",
      "source": [
        "# Calculate the correlation between the target column 'Disease_Diagnose' and all other numeric features\n",
        "original_data.corr()['Disease_Diagnose'].sort_values()"
      ],
      "metadata": {
        "colab": {
          "base_uri": "https://localhost:8080/"
        },
        "id": "3xu-PhBAQHYW",
        "outputId": "68631841-8aec-4200-efcf-0bf37ab7af4f"
      },
      "execution_count": 144,
      "outputs": [
        {
          "output_type": "execute_result",
          "data": {
            "text/plain": [
              "Diabetes           -0.776148\n",
              "Diabetes Type      -0.692714\n",
              "Marsh              -0.635683\n",
              "IgA                -0.247044\n",
              "Gender             -0.057161\n",
              "IgM                -0.025956\n",
              "Diarrhoea          -0.018160\n",
              "cd_type             0.086576\n",
              "IgG                 0.114605\n",
              "Age                 0.141312\n",
              "Short_Stature       0.166427\n",
              "Weight_loss         0.295459\n",
              "Sticky_Stool        0.342643\n",
              "Abdominal           0.384605\n",
              "Disease_Diagnose    1.000000\n",
              "Name: Disease_Diagnose, dtype: float64"
            ]
          },
          "metadata": {},
          "execution_count": 144
        }
      ]
    },
    {
      "cell_type": "markdown",
      "source": [
        "#**1.2.3 Balancing Dataset**\n",
        "\n",
        "\n",
        "The positive Celiac cases are five times the number of the Negative Celiac cases. Building a model on such imbalanced dataset produces biased results, hence, it's of supreme importance to balance the dataset for good model performance."
      ],
      "metadata": {
        "id": "Qnmoju5xLEtH"
      }
    },
    {
      "cell_type": "markdown",
      "source": [
        "***Balancing Our Datast: Upsampling***"
      ],
      "metadata": {
        "id": "patXIoSARZKU"
      }
    },
    {
      "cell_type": "code",
      "source": [
        "#original_data['Disease_Diagnose'].value_counts()\n",
        "\n",
        "df_majority = original_data[(original_data['Disease_Diagnose']==1)]\n",
        "df_minority = original_data[(original_data['Disease_Diagnose']==0)]"
      ],
      "metadata": {
        "id": "pXTYxY-sRYfX"
      },
      "execution_count": 145,
      "outputs": []
    },
    {
      "cell_type": "code",
      "source": [
        "df_minority.shape"
      ],
      "metadata": {
        "colab": {
          "base_uri": "https://localhost:8080/"
        },
        "id": "QP959Cm7wDS8",
        "outputId": "ca43e368-935c-4b94-967b-f1878e050a5e"
      },
      "execution_count": 136,
      "outputs": [
        {
          "output_type": "execute_result",
          "data": {
            "text/plain": [
              "(363, 15)"
            ]
          },
          "metadata": {},
          "execution_count": 136
        }
      ]
    },
    {
      "cell_type": "code",
      "source": [
        "# upsample minority class\n",
        "df_minority_upsampled = resample(df_minority,\n",
        "                                 replace=True,    # sample with replacement\n",
        "                                 n_samples= 1843, # to match majority class\n",
        "                                 random_state=42)  # reproducible results\n"
      ],
      "metadata": {
        "id": "4Y8vHas9SQAK"
      },
      "execution_count": 146,
      "outputs": []
    },
    {
      "cell_type": "code",
      "source": [
        "df_minority_upsampled.shape"
      ],
      "metadata": {
        "colab": {
          "base_uri": "https://localhost:8080/"
        },
        "id": "alcRje1zxGDH",
        "outputId": "9db2af68-04be-4806-cf5d-87da8966fe95"
      },
      "execution_count": 138,
      "outputs": [
        {
          "output_type": "execute_result",
          "data": {
            "text/plain": [
              "(1843, 15)"
            ]
          },
          "metadata": {},
          "execution_count": 138
        }
      ]
    },
    {
      "cell_type": "code",
      "source": [
        "# Combine majority class with upsampled minority class\n",
        "df_upsampled = pd.concat([df_minority_upsampled, df_majority])"
      ],
      "metadata": {
        "id": "2rsksd3BSo6U"
      },
      "execution_count": 139,
      "outputs": []
    },
    {
      "cell_type": "code",
      "source": [
        "df_upsampled['Disease_Diagnose'].value_counts()"
      ],
      "metadata": {
        "colab": {
          "base_uri": "https://localhost:8080/"
        },
        "id": "i215w3yhxXk-",
        "outputId": "5b447aa9-38b4-4ae7-8445-07264a685285"
      },
      "execution_count": 141,
      "outputs": [
        {
          "output_type": "execute_result",
          "data": {
            "text/plain": [
              "Disease_Diagnose\n",
              "0    1843\n",
              "1    1843\n",
              "Name: count, dtype: int64"
            ]
          },
          "metadata": {},
          "execution_count": 141
        }
      ]
    },
    {
      "cell_type": "code",
      "source": [
        "df_upsampled.head(5)"
      ],
      "metadata": {
        "colab": {
          "base_uri": "https://localhost:8080/",
          "height": 206
        },
        "id": "X7V4nPpATXdd",
        "outputId": "439c5906-2a62-4c03-f728-585c7c7bca82"
      },
      "execution_count": null,
      "outputs": [
        {
          "output_type": "execute_result",
          "data": {
            "text/plain": [
              "      Age  Gender  Diabetes  Diabetes Type  Diarrhoea  Abdominal  \\\n",
              "754    14       1         1              2          2          1   \n",
              "2148    7       1         1              2          1          0   \n",
              "1691    3       1         0              0          1          1   \n",
              "803     8       0         0              0          2          1   \n",
              "553    12       1         1              2          1          0   \n",
              "\n",
              "      Short_Stature  Sticky_Stool  Weight_loss  IgA   IgG  IgM  Marsh  \\\n",
              "754               0             1            0  9.0  12.0  1.7      6   \n",
              "2148              2             1            0  1.0   5.0  1.2      6   \n",
              "1691              2             1            1  1.0   9.0  1.4      6   \n",
              "803               2             1            1  0.8   9.5  1.2      2   \n",
              "553               2             1            1  0.6  12.0  1.0      6   \n",
              "\n",
              "      cd_type  Disease_Diagnose  \n",
              "754         2                 0  \n",
              "2148        2                 0  \n",
              "1691        2                 0  \n",
              "803         5                 0  \n",
              "553         2                 0  "
            ],
            "text/html": [
              "\n",
              "  <div id=\"df-231034a7-e3fb-4ed4-850d-a703a7a4e0f0\" class=\"colab-df-container\">\n",
              "    <div>\n",
              "<style scoped>\n",
              "    .dataframe tbody tr th:only-of-type {\n",
              "        vertical-align: middle;\n",
              "    }\n",
              "\n",
              "    .dataframe tbody tr th {\n",
              "        vertical-align: top;\n",
              "    }\n",
              "\n",
              "    .dataframe thead th {\n",
              "        text-align: right;\n",
              "    }\n",
              "</style>\n",
              "<table border=\"1\" class=\"dataframe\">\n",
              "  <thead>\n",
              "    <tr style=\"text-align: right;\">\n",
              "      <th></th>\n",
              "      <th>Age</th>\n",
              "      <th>Gender</th>\n",
              "      <th>Diabetes</th>\n",
              "      <th>Diabetes Type</th>\n",
              "      <th>Diarrhoea</th>\n",
              "      <th>Abdominal</th>\n",
              "      <th>Short_Stature</th>\n",
              "      <th>Sticky_Stool</th>\n",
              "      <th>Weight_loss</th>\n",
              "      <th>IgA</th>\n",
              "      <th>IgG</th>\n",
              "      <th>IgM</th>\n",
              "      <th>Marsh</th>\n",
              "      <th>cd_type</th>\n",
              "      <th>Disease_Diagnose</th>\n",
              "    </tr>\n",
              "  </thead>\n",
              "  <tbody>\n",
              "    <tr>\n",
              "      <th>754</th>\n",
              "      <td>14</td>\n",
              "      <td>1</td>\n",
              "      <td>1</td>\n",
              "      <td>2</td>\n",
              "      <td>2</td>\n",
              "      <td>1</td>\n",
              "      <td>0</td>\n",
              "      <td>1</td>\n",
              "      <td>0</td>\n",
              "      <td>9.0</td>\n",
              "      <td>12.0</td>\n",
              "      <td>1.7</td>\n",
              "      <td>6</td>\n",
              "      <td>2</td>\n",
              "      <td>0</td>\n",
              "    </tr>\n",
              "    <tr>\n",
              "      <th>2148</th>\n",
              "      <td>7</td>\n",
              "      <td>1</td>\n",
              "      <td>1</td>\n",
              "      <td>2</td>\n",
              "      <td>1</td>\n",
              "      <td>0</td>\n",
              "      <td>2</td>\n",
              "      <td>1</td>\n",
              "      <td>0</td>\n",
              "      <td>1.0</td>\n",
              "      <td>5.0</td>\n",
              "      <td>1.2</td>\n",
              "      <td>6</td>\n",
              "      <td>2</td>\n",
              "      <td>0</td>\n",
              "    </tr>\n",
              "    <tr>\n",
              "      <th>1691</th>\n",
              "      <td>3</td>\n",
              "      <td>1</td>\n",
              "      <td>0</td>\n",
              "      <td>0</td>\n",
              "      <td>1</td>\n",
              "      <td>1</td>\n",
              "      <td>2</td>\n",
              "      <td>1</td>\n",
              "      <td>1</td>\n",
              "      <td>1.0</td>\n",
              "      <td>9.0</td>\n",
              "      <td>1.4</td>\n",
              "      <td>6</td>\n",
              "      <td>2</td>\n",
              "      <td>0</td>\n",
              "    </tr>\n",
              "    <tr>\n",
              "      <th>803</th>\n",
              "      <td>8</td>\n",
              "      <td>0</td>\n",
              "      <td>0</td>\n",
              "      <td>0</td>\n",
              "      <td>2</td>\n",
              "      <td>1</td>\n",
              "      <td>2</td>\n",
              "      <td>1</td>\n",
              "      <td>1</td>\n",
              "      <td>0.8</td>\n",
              "      <td>9.5</td>\n",
              "      <td>1.2</td>\n",
              "      <td>2</td>\n",
              "      <td>5</td>\n",
              "      <td>0</td>\n",
              "    </tr>\n",
              "    <tr>\n",
              "      <th>553</th>\n",
              "      <td>12</td>\n",
              "      <td>1</td>\n",
              "      <td>1</td>\n",
              "      <td>2</td>\n",
              "      <td>1</td>\n",
              "      <td>0</td>\n",
              "      <td>2</td>\n",
              "      <td>1</td>\n",
              "      <td>1</td>\n",
              "      <td>0.6</td>\n",
              "      <td>12.0</td>\n",
              "      <td>1.0</td>\n",
              "      <td>6</td>\n",
              "      <td>2</td>\n",
              "      <td>0</td>\n",
              "    </tr>\n",
              "  </tbody>\n",
              "</table>\n",
              "</div>\n",
              "    <div class=\"colab-df-buttons\">\n",
              "\n",
              "  <div class=\"colab-df-container\">\n",
              "    <button class=\"colab-df-convert\" onclick=\"convertToInteractive('df-231034a7-e3fb-4ed4-850d-a703a7a4e0f0')\"\n",
              "            title=\"Convert this dataframe to an interactive table.\"\n",
              "            style=\"display:none;\">\n",
              "\n",
              "  <svg xmlns=\"http://www.w3.org/2000/svg\" height=\"24px\" viewBox=\"0 -960 960 960\">\n",
              "    <path d=\"M120-120v-720h720v720H120Zm60-500h600v-160H180v160Zm220 220h160v-160H400v160Zm0 220h160v-160H400v160ZM180-400h160v-160H180v160Zm440 0h160v-160H620v160ZM180-180h160v-160H180v160Zm440 0h160v-160H620v160Z\"/>\n",
              "  </svg>\n",
              "    </button>\n",
              "\n",
              "  <style>\n",
              "    .colab-df-container {\n",
              "      display:flex;\n",
              "      gap: 12px;\n",
              "    }\n",
              "\n",
              "    .colab-df-convert {\n",
              "      background-color: #E8F0FE;\n",
              "      border: none;\n",
              "      border-radius: 50%;\n",
              "      cursor: pointer;\n",
              "      display: none;\n",
              "      fill: #1967D2;\n",
              "      height: 32px;\n",
              "      padding: 0 0 0 0;\n",
              "      width: 32px;\n",
              "    }\n",
              "\n",
              "    .colab-df-convert:hover {\n",
              "      background-color: #E2EBFA;\n",
              "      box-shadow: 0px 1px 2px rgba(60, 64, 67, 0.3), 0px 1px 3px 1px rgba(60, 64, 67, 0.15);\n",
              "      fill: #174EA6;\n",
              "    }\n",
              "\n",
              "    .colab-df-buttons div {\n",
              "      margin-bottom: 4px;\n",
              "    }\n",
              "\n",
              "    [theme=dark] .colab-df-convert {\n",
              "      background-color: #3B4455;\n",
              "      fill: #D2E3FC;\n",
              "    }\n",
              "\n",
              "    [theme=dark] .colab-df-convert:hover {\n",
              "      background-color: #434B5C;\n",
              "      box-shadow: 0px 1px 3px 1px rgba(0, 0, 0, 0.15);\n",
              "      filter: drop-shadow(0px 1px 2px rgba(0, 0, 0, 0.3));\n",
              "      fill: #FFFFFF;\n",
              "    }\n",
              "  </style>\n",
              "\n",
              "    <script>\n",
              "      const buttonEl =\n",
              "        document.querySelector('#df-231034a7-e3fb-4ed4-850d-a703a7a4e0f0 button.colab-df-convert');\n",
              "      buttonEl.style.display =\n",
              "        google.colab.kernel.accessAllowed ? 'block' : 'none';\n",
              "\n",
              "      async function convertToInteractive(key) {\n",
              "        const element = document.querySelector('#df-231034a7-e3fb-4ed4-850d-a703a7a4e0f0');\n",
              "        const dataTable =\n",
              "          await google.colab.kernel.invokeFunction('convertToInteractive',\n",
              "                                                    [key], {});\n",
              "        if (!dataTable) return;\n",
              "\n",
              "        const docLinkHtml = 'Like what you see? Visit the ' +\n",
              "          '<a target=\"_blank\" href=https://colab.research.google.com/notebooks/data_table.ipynb>data table notebook</a>'\n",
              "          + ' to learn more about interactive tables.';\n",
              "        element.innerHTML = '';\n",
              "        dataTable['output_type'] = 'display_data';\n",
              "        await google.colab.output.renderOutput(dataTable, element);\n",
              "        const docLink = document.createElement('div');\n",
              "        docLink.innerHTML = docLinkHtml;\n",
              "        element.appendChild(docLink);\n",
              "      }\n",
              "    </script>\n",
              "  </div>\n",
              "\n",
              "\n",
              "<div id=\"df-e168917c-e348-40e8-8275-bae9d04368d4\">\n",
              "  <button class=\"colab-df-quickchart\" onclick=\"quickchart('df-e168917c-e348-40e8-8275-bae9d04368d4')\"\n",
              "            title=\"Suggest charts\"\n",
              "            style=\"display:none;\">\n",
              "\n",
              "<svg xmlns=\"http://www.w3.org/2000/svg\" height=\"24px\"viewBox=\"0 0 24 24\"\n",
              "     width=\"24px\">\n",
              "    <g>\n",
              "        <path d=\"M19 3H5c-1.1 0-2 .9-2 2v14c0 1.1.9 2 2 2h14c1.1 0 2-.9 2-2V5c0-1.1-.9-2-2-2zM9 17H7v-7h2v7zm4 0h-2V7h2v10zm4 0h-2v-4h2v4z\"/>\n",
              "    </g>\n",
              "</svg>\n",
              "  </button>\n",
              "\n",
              "<style>\n",
              "  .colab-df-quickchart {\n",
              "      --bg-color: #E8F0FE;\n",
              "      --fill-color: #1967D2;\n",
              "      --hover-bg-color: #E2EBFA;\n",
              "      --hover-fill-color: #174EA6;\n",
              "      --disabled-fill-color: #AAA;\n",
              "      --disabled-bg-color: #DDD;\n",
              "  }\n",
              "\n",
              "  [theme=dark] .colab-df-quickchart {\n",
              "      --bg-color: #3B4455;\n",
              "      --fill-color: #D2E3FC;\n",
              "      --hover-bg-color: #434B5C;\n",
              "      --hover-fill-color: #FFFFFF;\n",
              "      --disabled-bg-color: #3B4455;\n",
              "      --disabled-fill-color: #666;\n",
              "  }\n",
              "\n",
              "  .colab-df-quickchart {\n",
              "    background-color: var(--bg-color);\n",
              "    border: none;\n",
              "    border-radius: 50%;\n",
              "    cursor: pointer;\n",
              "    display: none;\n",
              "    fill: var(--fill-color);\n",
              "    height: 32px;\n",
              "    padding: 0;\n",
              "    width: 32px;\n",
              "  }\n",
              "\n",
              "  .colab-df-quickchart:hover {\n",
              "    background-color: var(--hover-bg-color);\n",
              "    box-shadow: 0 1px 2px rgba(60, 64, 67, 0.3), 0 1px 3px 1px rgba(60, 64, 67, 0.15);\n",
              "    fill: var(--button-hover-fill-color);\n",
              "  }\n",
              "\n",
              "  .colab-df-quickchart-complete:disabled,\n",
              "  .colab-df-quickchart-complete:disabled:hover {\n",
              "    background-color: var(--disabled-bg-color);\n",
              "    fill: var(--disabled-fill-color);\n",
              "    box-shadow: none;\n",
              "  }\n",
              "\n",
              "  .colab-df-spinner {\n",
              "    border: 2px solid var(--fill-color);\n",
              "    border-color: transparent;\n",
              "    border-bottom-color: var(--fill-color);\n",
              "    animation:\n",
              "      spin 1s steps(1) infinite;\n",
              "  }\n",
              "\n",
              "  @keyframes spin {\n",
              "    0% {\n",
              "      border-color: transparent;\n",
              "      border-bottom-color: var(--fill-color);\n",
              "      border-left-color: var(--fill-color);\n",
              "    }\n",
              "    20% {\n",
              "      border-color: transparent;\n",
              "      border-left-color: var(--fill-color);\n",
              "      border-top-color: var(--fill-color);\n",
              "    }\n",
              "    30% {\n",
              "      border-color: transparent;\n",
              "      border-left-color: var(--fill-color);\n",
              "      border-top-color: var(--fill-color);\n",
              "      border-right-color: var(--fill-color);\n",
              "    }\n",
              "    40% {\n",
              "      border-color: transparent;\n",
              "      border-right-color: var(--fill-color);\n",
              "      border-top-color: var(--fill-color);\n",
              "    }\n",
              "    60% {\n",
              "      border-color: transparent;\n",
              "      border-right-color: var(--fill-color);\n",
              "    }\n",
              "    80% {\n",
              "      border-color: transparent;\n",
              "      border-right-color: var(--fill-color);\n",
              "      border-bottom-color: var(--fill-color);\n",
              "    }\n",
              "    90% {\n",
              "      border-color: transparent;\n",
              "      border-bottom-color: var(--fill-color);\n",
              "    }\n",
              "  }\n",
              "</style>\n",
              "\n",
              "  <script>\n",
              "    async function quickchart(key) {\n",
              "      const quickchartButtonEl =\n",
              "        document.querySelector('#' + key + ' button');\n",
              "      quickchartButtonEl.disabled = true;  // To prevent multiple clicks.\n",
              "      quickchartButtonEl.classList.add('colab-df-spinner');\n",
              "      try {\n",
              "        const charts = await google.colab.kernel.invokeFunction(\n",
              "            'suggestCharts', [key], {});\n",
              "      } catch (error) {\n",
              "        console.error('Error during call to suggestCharts:', error);\n",
              "      }\n",
              "      quickchartButtonEl.classList.remove('colab-df-spinner');\n",
              "      quickchartButtonEl.classList.add('colab-df-quickchart-complete');\n",
              "    }\n",
              "    (() => {\n",
              "      let quickchartButtonEl =\n",
              "        document.querySelector('#df-e168917c-e348-40e8-8275-bae9d04368d4 button');\n",
              "      quickchartButtonEl.style.display =\n",
              "        google.colab.kernel.accessAllowed ? 'block' : 'none';\n",
              "    })();\n",
              "  </script>\n",
              "</div>\n",
              "    </div>\n",
              "  </div>\n"
            ],
            "application/vnd.google.colaboratory.intrinsic+json": {
              "type": "dataframe",
              "variable_name": "df_upsampled",
              "summary": "{\n  \"name\": \"df_upsampled\",\n  \"rows\": 3686,\n  \"fields\": [\n    {\n      \"column\": \"Age\",\n      \"properties\": {\n        \"dtype\": \"number\",\n        \"std\": 6,\n        \"min\": 1,\n        \"max\": 35,\n        \"num_unique_values\": 32,\n        \"samples\": [\n          24,\n          26,\n          15\n        ],\n        \"semantic_type\": \"\",\n        \"description\": \"\"\n      }\n    },\n    {\n      \"column\": \"Gender\",\n      \"properties\": {\n        \"dtype\": \"number\",\n        \"std\": 0,\n        \"min\": 0,\n        \"max\": 1,\n        \"num_unique_values\": 2,\n        \"samples\": [\n          0,\n          1\n        ],\n        \"semantic_type\": \"\",\n        \"description\": \"\"\n      }\n    },\n    {\n      \"column\": \"Diabetes\",\n      \"properties\": {\n        \"dtype\": \"number\",\n        \"std\": 0,\n        \"min\": 0,\n        \"max\": 1,\n        \"num_unique_values\": 2,\n        \"samples\": [\n          0,\n          1\n        ],\n        \"semantic_type\": \"\",\n        \"description\": \"\"\n      }\n    },\n    {\n      \"column\": \"Diabetes Type\",\n      \"properties\": {\n        \"dtype\": \"number\",\n        \"std\": 0,\n        \"min\": 0,\n        \"max\": 2,\n        \"num_unique_values\": 3,\n        \"samples\": [\n          2,\n          0\n        ],\n        \"semantic_type\": \"\",\n        \"description\": \"\"\n      }\n    },\n    {\n      \"column\": \"Diarrhoea\",\n      \"properties\": {\n        \"dtype\": \"number\",\n        \"std\": 0,\n        \"min\": 0,\n        \"max\": 2,\n        \"num_unique_values\": 3,\n        \"samples\": [\n          2,\n          1\n        ],\n        \"semantic_type\": \"\",\n        \"description\": \"\"\n      }\n    },\n    {\n      \"column\": \"Abdominal\",\n      \"properties\": {\n        \"dtype\": \"number\",\n        \"std\": 0,\n        \"min\": 0,\n        \"max\": 1,\n        \"num_unique_values\": 2,\n        \"samples\": [\n          0,\n          1\n        ],\n        \"semantic_type\": \"\",\n        \"description\": \"\"\n      }\n    },\n    {\n      \"column\": \"Short_Stature\",\n      \"properties\": {\n        \"dtype\": \"number\",\n        \"std\": 0,\n        \"min\": 0,\n        \"max\": 2,\n        \"num_unique_values\": 3,\n        \"samples\": [\n          0,\n          2\n        ],\n        \"semantic_type\": \"\",\n        \"description\": \"\"\n      }\n    },\n    {\n      \"column\": \"Sticky_Stool\",\n      \"properties\": {\n        \"dtype\": \"number\",\n        \"std\": 0,\n        \"min\": 0,\n        \"max\": 1,\n        \"num_unique_values\": 2,\n        \"samples\": [\n          0,\n          1\n        ],\n        \"semantic_type\": \"\",\n        \"description\": \"\"\n      }\n    },\n    {\n      \"column\": \"Weight_loss\",\n      \"properties\": {\n        \"dtype\": \"number\",\n        \"std\": 0,\n        \"min\": 0,\n        \"max\": 1,\n        \"num_unique_values\": 2,\n        \"samples\": [\n          1,\n          0\n        ],\n        \"semantic_type\": \"\",\n        \"description\": \"\"\n      }\n    },\n    {\n      \"column\": \"IgA\",\n      \"properties\": {\n        \"dtype\": \"number\",\n        \"std\": 1.7727307570986044,\n        \"min\": 0.34,\n        \"max\": 9.0,\n        \"num_unique_values\": 35,\n        \"samples\": [\n          1.8,\n          1.66\n        ],\n        \"semantic_type\": \"\",\n        \"description\": \"\"\n      }\n    },\n    {\n      \"column\": \"IgG\",\n      \"properties\": {\n        \"dtype\": \"number\",\n        \"std\": 2.198004748849615,\n        \"min\": 5.0,\n        \"max\": 15.3,\n        \"num_unique_values\": 36,\n        \"samples\": [\n          14.0,\n          11.1\n        ],\n        \"semantic_type\": \"\",\n        \"description\": \"\"\n      }\n    },\n    {\n      \"column\": \"IgM\",\n      \"properties\": {\n        \"dtype\": \"number\",\n        \"std\": 0.4016652258061027,\n        \"min\": 0.5,\n        \"max\": 2.7,\n        \"num_unique_values\": 27,\n        \"samples\": [\n          0.91,\n          0.99\n        ],\n        \"semantic_type\": \"\",\n        \"description\": \"\"\n      }\n    },\n    {\n      \"column\": \"Marsh\",\n      \"properties\": {\n        \"dtype\": \"number\",\n        \"std\": 2,\n        \"min\": 0,\n        \"max\": 6,\n        \"num_unique_values\": 7,\n        \"samples\": [\n          6,\n          2\n        ],\n        \"semantic_type\": \"\",\n        \"description\": \"\"\n      }\n    },\n    {\n      \"column\": \"cd_type\",\n      \"properties\": {\n        \"dtype\": \"number\",\n        \"std\": 1,\n        \"min\": 0,\n        \"max\": 5,\n        \"num_unique_values\": 6,\n        \"samples\": [\n          2,\n          5\n        ],\n        \"semantic_type\": \"\",\n        \"description\": \"\"\n      }\n    },\n    {\n      \"column\": \"Disease_Diagnose\",\n      \"properties\": {\n        \"dtype\": \"number\",\n        \"std\": 0,\n        \"min\": 0,\n        \"max\": 1,\n        \"num_unique_values\": 2,\n        \"samples\": [\n          1,\n          0\n        ],\n        \"semantic_type\": \"\",\n        \"description\": \"\"\n      }\n    }\n  ]\n}"
            }
          },
          "metadata": {},
          "execution_count": 86
        }
      ]
    },
    {
      "cell_type": "markdown",
      "source": [
        "#***2- Modeling Using Random Forest***"
      ],
      "metadata": {
        "id": "16o7p4ad8c2R"
      }
    },
    {
      "cell_type": "markdown",
      "source": [
        "# ***2.1 Grid Search Methodology***\n",
        "- Systematic exploration of multiple hyperparameter combinations.\n",
        "- Identifies optimal values through exhaustive search."
      ],
      "metadata": {
        "id": "FWNWHniTE3mR"
      }
    },
    {
      "cell_type": "markdown",
      "source": [
        "## Data Splitting\n",
        "This cell splits the dataset into training and testing sets to evaluate the model's performance.\n",
        "\n",
        "\n",
        "*   Training_valdiation set 70% of data.\n",
        "*   Test set 30% of data."
      ],
      "metadata": {
        "id": "QZASXGjaFHfZ"
      }
    },
    {
      "cell_type": "code",
      "source": [
        "\n",
        "X = df_upsampled.drop(columns=['Disease_Diagnose'])\n",
        "y = df_upsampled['Disease_Diagnose']\n",
        "\n",
        "# Splitting the dataset into train and test sets with a 70-30 ratio\n",
        "X_train, X_test, y_train, y_test = train_test_split(X, y, test_size=0.3, stratify=y, random_state=42)"
      ],
      "metadata": {
        "id": "bEG7N0K6ohPg"
      },
      "execution_count": 147,
      "outputs": []
    },
    {
      "cell_type": "code",
      "source": [
        "# check for data balancy (y_train)\n",
        "y_train.value_counts()"
      ],
      "metadata": {
        "colab": {
          "base_uri": "https://localhost:8080/"
        },
        "id": "k2NUViQlL2lg",
        "outputId": "31ce8ad6-a509-4438-83b3-21d5b664f6ee"
      },
      "execution_count": 148,
      "outputs": [
        {
          "output_type": "execute_result",
          "data": {
            "text/plain": [
              "Disease_Diagnose\n",
              "0    1290\n",
              "1    1290\n",
              "Name: count, dtype: int64"
            ]
          },
          "metadata": {},
          "execution_count": 148
        }
      ]
    },
    {
      "cell_type": "code",
      "source": [
        "print (\"X_train :\", X_train.shape )\n",
        "print (\"y_train :\", y_train.shape )"
      ],
      "metadata": {
        "colab": {
          "base_uri": "https://localhost:8080/"
        },
        "id": "jkZruUHE4A9F",
        "outputId": "0a5ead0a-4bcb-41cf-e1ff-9b5ebda16c29"
      },
      "execution_count": null,
      "outputs": [
        {
          "output_type": "stream",
          "name": "stdout",
          "text": [
            "X_train : (2580, 14)\n",
            "y_train : (2580,)\n"
          ]
        }
      ]
    },
    {
      "cell_type": "code",
      "source": [
        "param_grid = {\n",
        "    'n_estimators': [5 ],  # the number of trees in the forest\n",
        "    'max_depth': [10],  # the maximum depth of each tree is usually 0 to avoid overfitting\n",
        "    'max_features': ['sqrt'],  # the number of features to consider at each split\n",
        "    'min_samples_split': [50],  # the minimum number of samples required to split a node\n",
        "    'min_samples_leaf': [50],  # the minimum number of samples required to be at a leaf node\n",
        "    'bootstrap': [True, False],  # whether to use bootstrap samples when building trees\n",
        "    'criterion': ['gini', 'entropy'],  # the function to measure the quality of a split\n",
        "}"
      ],
      "metadata": {
        "id": "gn-YUp2H8Lt_"
      },
      "execution_count": 150,
      "outputs": []
    },
    {
      "cell_type": "markdown",
      "source": [
        "## Setting Up Grid Search for Decision Tree\n",
        "\n",
        "Initializes a `DecisionTreeClassifier` and configures `GridSearchCV` with:\n",
        "- The decision tree classifier (`clf`) as the estimator.\n",
        "- A parameter grid (`param_grid`) to explore.\n",
        "- 4-fold cross-validation (`cv=4`).\n",
        "- f1 score as the scoring metric.\n",
        "- Try to change the scoring metric."
      ],
      "metadata": {
        "id": "qYv1afmaFxEw"
      }
    },
    {
      "cell_type": "code",
      "source": [
        "# Create an instance of the RandomForestClassifier class\n",
        "rf = RandomForestClassifier()\n",
        "\n",
        "# Create an instance of the GridSearchCV class\n",
        "grid_search_rf = GridSearchCV(estimator= rf ,\n",
        "                              param_grid= param_grid,\n",
        "                              cv=4,\n",
        "                              scoring='f1',\n",
        "                              n_jobs=-1,\n",
        "                              verbose=2)"
      ],
      "metadata": {
        "id": "mum4tgQ99BCW"
      },
      "execution_count": 151,
      "outputs": []
    },
    {
      "cell_type": "markdown",
      "source": [
        "#***3- Model Testing***"
      ],
      "metadata": {
        "id": "L3LV4sU4Sni1"
      }
    },
    {
      "cell_type": "markdown",
      "source": [
        "## Executing Grid Search\n",
        "\n",
        "Runs `grid_search.fit` on the training data (`X_train`, `y_train`) to find the optimal hyperparameter settings based on the defined grid."
      ],
      "metadata": {
        "id": "gt38Z8NCGcUy"
      }
    },
    {
      "cell_type": "code",
      "source": [
        "\n",
        "# Fit the grid search object to the data\n",
        "grid_search_rf.fit(X_train, y_train)"
      ],
      "metadata": {
        "id": "3ozx54ZL9G2_",
        "colab": {
          "base_uri": "https://localhost:8080/",
          "height": 137
        },
        "outputId": "8e9989f5-a1cf-4395-ce4c-9986f5bb0f63"
      },
      "execution_count": 152,
      "outputs": [
        {
          "output_type": "stream",
          "name": "stdout",
          "text": [
            "Fitting 4 folds for each of 4 candidates, totalling 16 fits\n"
          ]
        },
        {
          "output_type": "execute_result",
          "data": {
            "text/plain": [
              "GridSearchCV(cv=4, estimator=RandomForestClassifier(), n_jobs=-1,\n",
              "             param_grid={'bootstrap': [True, False],\n",
              "                         'criterion': ['gini', 'entropy'], 'max_depth': [10],\n",
              "                         'max_features': ['sqrt'], 'min_samples_leaf': [50],\n",
              "                         'min_samples_split': [50], 'n_estimators': [5]},\n",
              "             scoring='f1', verbose=2)"
            ],
            "text/html": [
              "<style>#sk-container-id-1 {color: black;background-color: white;}#sk-container-id-1 pre{padding: 0;}#sk-container-id-1 div.sk-toggleable {background-color: white;}#sk-container-id-1 label.sk-toggleable__label {cursor: pointer;display: block;width: 100%;margin-bottom: 0;padding: 0.3em;box-sizing: border-box;text-align: center;}#sk-container-id-1 label.sk-toggleable__label-arrow:before {content: \"▸\";float: left;margin-right: 0.25em;color: #696969;}#sk-container-id-1 label.sk-toggleable__label-arrow:hover:before {color: black;}#sk-container-id-1 div.sk-estimator:hover label.sk-toggleable__label-arrow:before {color: black;}#sk-container-id-1 div.sk-toggleable__content {max-height: 0;max-width: 0;overflow: hidden;text-align: left;background-color: #f0f8ff;}#sk-container-id-1 div.sk-toggleable__content pre {margin: 0.2em;color: black;border-radius: 0.25em;background-color: #f0f8ff;}#sk-container-id-1 input.sk-toggleable__control:checked~div.sk-toggleable__content {max-height: 200px;max-width: 100%;overflow: auto;}#sk-container-id-1 input.sk-toggleable__control:checked~label.sk-toggleable__label-arrow:before {content: \"▾\";}#sk-container-id-1 div.sk-estimator input.sk-toggleable__control:checked~label.sk-toggleable__label {background-color: #d4ebff;}#sk-container-id-1 div.sk-label input.sk-toggleable__control:checked~label.sk-toggleable__label {background-color: #d4ebff;}#sk-container-id-1 input.sk-hidden--visually {border: 0;clip: rect(1px 1px 1px 1px);clip: rect(1px, 1px, 1px, 1px);height: 1px;margin: -1px;overflow: hidden;padding: 0;position: absolute;width: 1px;}#sk-container-id-1 div.sk-estimator {font-family: monospace;background-color: #f0f8ff;border: 1px dotted black;border-radius: 0.25em;box-sizing: border-box;margin-bottom: 0.5em;}#sk-container-id-1 div.sk-estimator:hover {background-color: #d4ebff;}#sk-container-id-1 div.sk-parallel-item::after {content: \"\";width: 100%;border-bottom: 1px solid gray;flex-grow: 1;}#sk-container-id-1 div.sk-label:hover label.sk-toggleable__label {background-color: #d4ebff;}#sk-container-id-1 div.sk-serial::before {content: \"\";position: absolute;border-left: 1px solid gray;box-sizing: border-box;top: 0;bottom: 0;left: 50%;z-index: 0;}#sk-container-id-1 div.sk-serial {display: flex;flex-direction: column;align-items: center;background-color: white;padding-right: 0.2em;padding-left: 0.2em;position: relative;}#sk-container-id-1 div.sk-item {position: relative;z-index: 1;}#sk-container-id-1 div.sk-parallel {display: flex;align-items: stretch;justify-content: center;background-color: white;position: relative;}#sk-container-id-1 div.sk-item::before, #sk-container-id-1 div.sk-parallel-item::before {content: \"\";position: absolute;border-left: 1px solid gray;box-sizing: border-box;top: 0;bottom: 0;left: 50%;z-index: -1;}#sk-container-id-1 div.sk-parallel-item {display: flex;flex-direction: column;z-index: 1;position: relative;background-color: white;}#sk-container-id-1 div.sk-parallel-item:first-child::after {align-self: flex-end;width: 50%;}#sk-container-id-1 div.sk-parallel-item:last-child::after {align-self: flex-start;width: 50%;}#sk-container-id-1 div.sk-parallel-item:only-child::after {width: 0;}#sk-container-id-1 div.sk-dashed-wrapped {border: 1px dashed gray;margin: 0 0.4em 0.5em 0.4em;box-sizing: border-box;padding-bottom: 0.4em;background-color: white;}#sk-container-id-1 div.sk-label label {font-family: monospace;font-weight: bold;display: inline-block;line-height: 1.2em;}#sk-container-id-1 div.sk-label-container {text-align: center;}#sk-container-id-1 div.sk-container {/* jupyter's `normalize.less` sets `[hidden] { display: none; }` but bootstrap.min.css set `[hidden] { display: none !important; }` so we also need the `!important` here to be able to override the default hidden behavior on the sphinx rendered scikit-learn.org. See: https://github.com/scikit-learn/scikit-learn/issues/21755 */display: inline-block !important;position: relative;}#sk-container-id-1 div.sk-text-repr-fallback {display: none;}</style><div id=\"sk-container-id-1\" class=\"sk-top-container\"><div class=\"sk-text-repr-fallback\"><pre>GridSearchCV(cv=4, estimator=RandomForestClassifier(), n_jobs=-1,\n",
              "             param_grid={&#x27;bootstrap&#x27;: [True, False],\n",
              "                         &#x27;criterion&#x27;: [&#x27;gini&#x27;, &#x27;entropy&#x27;], &#x27;max_depth&#x27;: [10],\n",
              "                         &#x27;max_features&#x27;: [&#x27;sqrt&#x27;], &#x27;min_samples_leaf&#x27;: [50],\n",
              "                         &#x27;min_samples_split&#x27;: [50], &#x27;n_estimators&#x27;: [5]},\n",
              "             scoring=&#x27;f1&#x27;, verbose=2)</pre><b>In a Jupyter environment, please rerun this cell to show the HTML representation or trust the notebook. <br />On GitHub, the HTML representation is unable to render, please try loading this page with nbviewer.org.</b></div><div class=\"sk-container\" hidden><div class=\"sk-item sk-dashed-wrapped\"><div class=\"sk-label-container\"><div class=\"sk-label sk-toggleable\"><input class=\"sk-toggleable__control sk-hidden--visually\" id=\"sk-estimator-id-1\" type=\"checkbox\" ><label for=\"sk-estimator-id-1\" class=\"sk-toggleable__label sk-toggleable__label-arrow\">GridSearchCV</label><div class=\"sk-toggleable__content\"><pre>GridSearchCV(cv=4, estimator=RandomForestClassifier(), n_jobs=-1,\n",
              "             param_grid={&#x27;bootstrap&#x27;: [True, False],\n",
              "                         &#x27;criterion&#x27;: [&#x27;gini&#x27;, &#x27;entropy&#x27;], &#x27;max_depth&#x27;: [10],\n",
              "                         &#x27;max_features&#x27;: [&#x27;sqrt&#x27;], &#x27;min_samples_leaf&#x27;: [50],\n",
              "                         &#x27;min_samples_split&#x27;: [50], &#x27;n_estimators&#x27;: [5]},\n",
              "             scoring=&#x27;f1&#x27;, verbose=2)</pre></div></div></div><div class=\"sk-parallel\"><div class=\"sk-parallel-item\"><div class=\"sk-item\"><div class=\"sk-label-container\"><div class=\"sk-label sk-toggleable\"><input class=\"sk-toggleable__control sk-hidden--visually\" id=\"sk-estimator-id-2\" type=\"checkbox\" ><label for=\"sk-estimator-id-2\" class=\"sk-toggleable__label sk-toggleable__label-arrow\">estimator: RandomForestClassifier</label><div class=\"sk-toggleable__content\"><pre>RandomForestClassifier()</pre></div></div></div><div class=\"sk-serial\"><div class=\"sk-item\"><div class=\"sk-estimator sk-toggleable\"><input class=\"sk-toggleable__control sk-hidden--visually\" id=\"sk-estimator-id-3\" type=\"checkbox\" ><label for=\"sk-estimator-id-3\" class=\"sk-toggleable__label sk-toggleable__label-arrow\">RandomForestClassifier</label><div class=\"sk-toggleable__content\"><pre>RandomForestClassifier()</pre></div></div></div></div></div></div></div></div></div></div>"
            ]
          },
          "metadata": {},
          "execution_count": 152
        }
      ]
    },
    {
      "cell_type": "markdown",
      "source": [
        "## Retrieving Best Model Parameters from Grid Search\n",
        "\n",
        "- Extracts `best_params` from `grid_search`, revealing the optimal hyperparameter settings.\n",
        "- Assigns `best_model` as the best estimator found by grid search.\n",
        "- Prints `best_params` to display the selected hyperparameters for the best model."
      ],
      "metadata": {
        "id": "vkBPKLAJGxR7"
      }
    },
    {
      "cell_type": "code",
      "source": [
        "# Best RF parameters:\n",
        "best_model_rf = grid_search_rf.best_estimator_\n",
        "\n",
        "best_params_rf = grid_search_rf.best_params_\n",
        "print(\"Best RF parameters:\", best_params_rf)"
      ],
      "metadata": {
        "colab": {
          "base_uri": "https://localhost:8080/"
        },
        "id": "Le0uXCZFGjOk",
        "outputId": "9e112ec0-5c96-48f4-9b3b-5b4b87bc8f9f"
      },
      "execution_count": 153,
      "outputs": [
        {
          "output_type": "stream",
          "name": "stdout",
          "text": [
            "Best RF parameters: {'bootstrap': True, 'criterion': 'gini', 'max_depth': 10, 'max_features': 'sqrt', 'min_samples_leaf': 50, 'min_samples_split': 50, 'n_estimators': 5}\n"
          ]
        }
      ]
    },
    {
      "cell_type": "code",
      "source": [
        "# Predict on test set\n",
        "\n",
        "y_pred = grid_search_rf.best_estimator_.predict(X_test)\n"
      ],
      "metadata": {
        "id": "O_UG3rAG9VaH"
      },
      "execution_count": 154,
      "outputs": []
    },
    {
      "cell_type": "code",
      "source": [
        "# Concatenate X_train and y_train\n",
        "train_data = pd.concat([X_train, y_train], axis=1)\n",
        "\n",
        "# Concatenate X_test and y_test\n",
        "test_data = pd.concat([X_test, y_test], axis=1)"
      ],
      "metadata": {
        "id": "muvESgKF49kp"
      },
      "execution_count": 155,
      "outputs": []
    },
    {
      "cell_type": "code",
      "source": [
        "\n",
        "accuracy = accuracy_score(y_test, y_pred)\n",
        "print(\"Accuracy:\", accuracy)\n",
        "\n",
        "\n",
        "# Generate a confusion matrix\n",
        "cm = confusion_matrix(y_test, y_pred)\n",
        "print(\"\\nConfusion matrix: \\n\", cm)\n",
        "\n",
        "# Generate a classification report\n",
        "cr = classification_report(y_test, y_pred)\n",
        "print(\"\\n Classification report: \\n\", cr)"
      ],
      "metadata": {
        "colab": {
          "base_uri": "https://localhost:8080/"
        },
        "id": "p5TR-hy_5JWr",
        "outputId": "de665937-2573-4614-e0ba-4823b0a78094"
      },
      "execution_count": 156,
      "outputs": [
        {
          "output_type": "stream",
          "name": "stdout",
          "text": [
            "Accuracy: 0.9864376130198915\n",
            "\n",
            "Confusion matrix: \n",
            " [[538  15]\n",
            " [  0 553]]\n",
            "\n",
            " Classification report: \n",
            "               precision    recall  f1-score   support\n",
            "\n",
            "           0       1.00      0.97      0.99       553\n",
            "           1       0.97      1.00      0.99       553\n",
            "\n",
            "    accuracy                           0.99      1106\n",
            "   macro avg       0.99      0.99      0.99      1106\n",
            "weighted avg       0.99      0.99      0.99      1106\n",
            "\n"
          ]
        }
      ]
    },
    {
      "cell_type": "markdown",
      "source": [
        "#***- Correlation***"
      ],
      "metadata": {
        "id": "XePXQSA9S7Nv"
      }
    },
    {
      "cell_type": "code",
      "source": [
        "# Calculate correlation matrix\n",
        "correlation_matrix = train_data.corr()"
      ],
      "metadata": {
        "id": "AjJ2e4En6Kfa"
      },
      "execution_count": 157,
      "outputs": []
    },
    {
      "cell_type": "code",
      "source": [
        "# Extract correlation of features with the target variable (excluding target variable itself)\n",
        "target_correlation = correlation_matrix.iloc[:-1, -1]"
      ],
      "metadata": {
        "id": "4J39PiXK5q4u"
      },
      "execution_count": 158,
      "outputs": []
    },
    {
      "cell_type": "code",
      "source": [
        "# Print the correlation of all features with the target variable\n",
        "target_correlation_sorted = target_correlation.sort_values()\n",
        "target_correlation_sorted\n"
      ],
      "metadata": {
        "colab": {
          "base_uri": "https://localhost:8080/"
        },
        "id": "FDAzfimE6STD",
        "outputId": "1e94d0e9-f450-40b0-8c86-0cbbd81c874a"
      },
      "execution_count": 160,
      "outputs": [
        {
          "output_type": "execute_result",
          "data": {
            "text/plain": [
              "Marsh           -0.806378\n",
              "Diabetes        -0.803649\n",
              "Diabetes Type   -0.766160\n",
              "IgA             -0.212582\n",
              "Gender          -0.100620\n",
              "IgM             -0.036856\n",
              "Diarrhoea       -0.018339\n",
              "IgG              0.147420\n",
              "cd_type          0.159880\n",
              "Short_Stature    0.172591\n",
              "Age              0.217440\n",
              "Weight_loss      0.357335\n",
              "Sticky_Stool     0.363490\n",
              "Abdominal        0.443563\n",
              "Name: Disease_Diagnose, dtype: float64"
            ]
          },
          "metadata": {},
          "execution_count": 160
        }
      ]
    },
    {
      "cell_type": "code",
      "source": [
        "# width, height\n",
        "plt.figure(figsize=(14,10))\n",
        "sns.heatmap(df_upsampled.corr(), annot=True)"
      ],
      "metadata": {
        "id": "EkIKRJPr8Qlh",
        "colab": {
          "base_uri": "https://localhost:8080/",
          "height": 966
        },
        "outputId": "58139c76-21ba-40e1-9fd9-c90760130b4a"
      },
      "execution_count": 161,
      "outputs": [
        {
          "output_type": "execute_result",
          "data": {
            "text/plain": [
              "<Axes: >"
            ]
          },
          "metadata": {},
          "execution_count": 161
        },
        {
          "output_type": "display_data",
          "data": {
            "text/plain": [
              "<Figure size 1400x1000 with 2 Axes>"
            ],
            "image/png": "[encoded data removed]"
          },
          "metadata": {}
        }
      ]
    }
  ]
}